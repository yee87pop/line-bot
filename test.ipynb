{
 "cells": [
  {
   "cell_type": "code",
   "execution_count": 13,
   "metadata": {},
   "outputs": [
    {
     "name": "stdout",
     "output_type": "stream",
     "text": [
      "['D:\\\\anaconda3\\\\lib\\\\site-packages\\\\requests']\n"
     ]
    }
   ],
   "source": [
    "import requests\n",
    "print(requests.__path__)"
   ]
  },
  {
   "cell_type": "code",
   "execution_count": 22,
   "metadata": {},
   "outputs": [
    {
     "name": "stdout",
     "output_type": "stream",
     "text": [
      "[('record_no', 'integer'), ('alpaca_name', 'character varying'), ('training', 'character varying'), ('duration', 'interval'), ('date', 'date')]\n"
     ]
    }
   ],
   "source": [
    "import os\n",
    "import psycopg2\n",
    "\n",
    "DATABASE_URL = os.popen('heroku config:get DATABASE_URL -a penguin-talk-re').read()[:-1]\n",
    "\n",
    "conn = psycopg2.connect(DATABASE_URL, sslmode='require')\n",
    "cursor = conn.cursor()\n",
    "\n",
    "cursor.execute(\"SELECT column_name, data_type FROM information_schema.columns WHERE table_name = 'penguin_talk'\")\n",
    "data = []\n",
    "while True:\n",
    "    temp = cursor.fetchone()\n",
    "    if temp:\n",
    "        data.append(temp)\n",
    "    else:\n",
    "        break\n",
    "print(data)"
   ]
  },
  {
   "cell_type": "code",
   "execution_count": 1,
   "metadata": {},
   "outputs": [],
   "source": [
    "import os\n",
    "import psycopg2\n",
    "\n",
    "DATABASE_URL = os.popen('heroku config:get DATABASE_URL -a penguin-talk').read()[:-1]\n",
    "\n",
    "conn = psycopg2.connect(DATABASE_URL, sslmode='require')\n",
    "cursor = conn.cursor()\n",
    "\n",
    "delete_table_query = '''DROP TABLE penguin_talk'''\n",
    "\n",
    "cursor.execute(delete_table_query)\n",
    "conn.commit()\n",
    "\n",
    "cursor.close()\n",
    "conn.close()"
   ]
  },
  {
   "cell_type": "code",
   "execution_count": 2,
   "metadata": {},
   "outputs": [
    {
     "ename": "UndefinedTable",
     "evalue": "relation \"penguin_talk\" does not exist\nLINE 1: SELECT * FROM penguin_talk\n                      ^\n",
     "output_type": "error",
     "traceback": [
      "\u001b[1;31m---------------------------------------------------------------------------\u001b[0m",
      "\u001b[1;31mUndefinedTable\u001b[0m                            Traceback (most recent call last)",
      "\u001b[1;32m~\\AppData\\Local\\Temp/ipykernel_18752/3105498267.py\u001b[0m in \u001b[0;36m<module>\u001b[1;34m\u001b[0m\n\u001b[0;32m      8\u001b[0m \u001b[1;33m\u001b[0m\u001b[0m\n\u001b[0;32m      9\u001b[0m \u001b[0mquery\u001b[0m \u001b[1;33m=\u001b[0m \u001b[1;34m'SELECT * FROM penguin_talk'\u001b[0m\u001b[1;33m\u001b[0m\u001b[1;33m\u001b[0m\u001b[0m\n\u001b[1;32m---> 10\u001b[1;33m \u001b[0mcursor\u001b[0m\u001b[1;33m.\u001b[0m\u001b[0mexecute\u001b[0m\u001b[1;33m(\u001b[0m\u001b[0mquery\u001b[0m\u001b[1;33m)\u001b[0m\u001b[1;33m\u001b[0m\u001b[1;33m\u001b[0m\u001b[0m\n\u001b[0m\u001b[0;32m     11\u001b[0m \u001b[1;33m\u001b[0m\u001b[0m\n\u001b[0;32m     12\u001b[0m \u001b[0mprint\u001b[0m\u001b[1;33m(\u001b[0m\u001b[0mcursor\u001b[0m\u001b[1;33m.\u001b[0m\u001b[0mfetchall\u001b[0m\u001b[1;33m(\u001b[0m\u001b[1;33m)\u001b[0m\u001b[1;33m)\u001b[0m\u001b[1;33m\u001b[0m\u001b[1;33m\u001b[0m\u001b[0m\n",
      "\u001b[1;31mUndefinedTable\u001b[0m: relation \"penguin_talk\" does not exist\nLINE 1: SELECT * FROM penguin_talk\n                      ^\n"
     ]
    }
   ],
   "source": [
    "import os\n",
    "import psycopg2\n",
    "\n",
    "DATABASE_URL = os.popen('heroku config:get DATABASE_URL -a penguin-talk').read()[:-1]\n",
    "\n",
    "conn = psycopg2.connect(DATABASE_URL, sslmode='require')\n",
    "cursor = conn.cursor()\n",
    "\n",
    "query = 'SELECT * FROM penguin_talk'\n",
    "cursor.execute(query)\n",
    "\n",
    "print(cursor.fetchall())\n",
    "\n",
    "cursor.close()\n",
    "conn.close()\n"
   ]
  },
  {
   "cell_type": "code",
   "execution_count": 3,
   "metadata": {},
   "outputs": [],
   "source": [
    "import os\n",
    "import psycopg2\n",
    "\n",
    "DATABASE_URL = os.popen('heroku config:get DATABASE_URL -a penguin-talk-re').read()[:-1]\n",
    "\n",
    "conn = psycopg2.connect(DATABASE_URL, sslmode='require')\n",
    "cursor = conn.cursor()\n",
    "\n",
    "create_table_query = '''CREATE TABLE penguin_talk(\n",
    "    record_no serial PRIMARY KEY,\n",
    "    question VARCHAR (50) NOT NULL,\n",
    "    answer VARCHAR (50) NOT NULL\n",
    ");'''\n",
    "cursor.execute(create_table_query)\n",
    "\n",
    "conn.commit()\n",
    "\n",
    "cursor.close()\n",
    "conn.close()"
   ]
  },
  {
   "cell_type": "code",
   "execution_count": 5,
   "metadata": {},
   "outputs": [
    {
     "name": "stdout",
     "output_type": "stream",
     "text": [
      "./static/H74V.jpg\n"
     ]
    }
   ],
   "source": [
    "from linebot import (\n",
    "    LineBotApi, WebhookHandler\n",
    ")\n",
    "from linebot.exceptions import (\n",
    "    InvalidSignatureError\n",
    ")\n",
    "from linebot.models import (\n",
    "    MessageEvent, TextMessage, TextSendMessage,ImageMessage, ImageSendMessage\n",
    ")\n",
    "import random\n",
    "import string\n",
    "image_name = ''.join(random.choice(string.ascii_letters + string.digits) for x in range(4))\n",
    "image_name = image_name.upper()+'.jpg'\n",
    "path='./static/'+image_name\n",
    "print(path)"
   ]
  },
  {
   "cell_type": "code",
   "execution_count": 40,
   "metadata": {},
   "outputs": [
    {
     "name": "stdout",
     "output_type": "stream",
     "text": [
      "1 Record inserted successfully into penguin-talk\n"
     ]
    }
   ],
   "source": [
    "import os\n",
    "import psycopg2\n",
    "\n",
    "def input_Q(): \n",
    "    DATABASE_URL = os.popen('heroku config:get DATABASE_URL -a penguin-talk').read()[:-1]\n",
    "\n",
    "    conn = psycopg2.connect(DATABASE_URL, sslmode='require')\n",
    "    cursor = conn.cursor()\n",
    "\n",
    "    record = ('法蘭克', '肌力訓練')\n",
    "    table_columns = '(question, answer)'\n",
    "    postgres_insert_query = f\"\"\"INSERT INTO penguin_talk {table_columns} VALUES (%s, %s);\"\"\"\n",
    "\n",
    "    cursor.execute(postgres_insert_query, record)\n",
    "    conn.commit()\n",
    "\n",
    "    count = cursor.rowcount\n",
    "\n",
    "    print(count, \"Record inserted successfully into penguin-talk\")\n",
    "\n",
    "    cursor.close()\n",
    "    conn.close()\n",
    "    "
   ]
  },
  {
   "cell_type": "code",
   "execution_count": 45,
   "metadata": {},
   "outputs": [
    {
     "name": "stdout",
     "output_type": "stream",
     "text": [
      "宜蘭縣\n",
      "陰有雨\n",
      "100\n",
      "13\n",
      "15\n"
     ]
    }
   ],
   "source": [
    "import requests\n",
    "import json\n",
    "x=\"嘉義縣\"\n",
    "url = \"https://opendata.cwb.gov.tw/api/v1/rest/datastore/F-C0032-001?Authorization=CWB-0CD62FEF-91F4-407F-B266-2A85D8A8810D\"\n",
    "params = {\n",
    "    \"Authorization\": \"CWB-0CD62FEF-91F4-407F-B266-2A85D8A8810D\",\n",
    "    \"locationName\": \"宜蘭縣\",\n",
    "}\n",
    "\n",
    "response = requests.get(url, params=params)\n",
    "if response.status_code == 200:\n",
    "    data = json.loads(response.text)\n",
    "\n",
    "    location = data[\"records\"][\"location\"][0][\"locationName\"]\n",
    "    weather = data[\"records\"][\"location\"][0][\"weatherElement\"][0][\"time\"][2]['parameter']['parameterName']\n",
    "    rain_percent = data[\"records\"][\"location\"][0][\"weatherElement\"][1][\"time\"][2]['parameter']['parameterName']\n",
    "    temprature_low=data[\"records\"][\"location\"][0][\"weatherElement\"][2][\"time\"][2]['parameter']['parameterName']\n",
    "    temprature_high=data[\"records\"][\"location\"][0][\"weatherElement\"][4][\"time\"][2]['parameter']['parameterName']\n",
    "\n",
    "    print(location)\n",
    "    print(weather)\n",
    "    print(rain_percent)\n",
    "    print(temprature_low)\n",
    "    print(temprature_high)\n",
    "    \n"
   ]
  },
  {
   "cell_type": "code",
   "execution_count": 25,
   "metadata": {},
   "outputs": [
    {
     "name": "stdout",
     "output_type": "stream",
     "text": [
      "你好\n"
     ]
    }
   ],
   "source": [
    "st=\"你好啊各位\"\n",
    "print(st[0]+st[1])"
   ]
  },
  {
   "cell_type": "code",
   "execution_count": 24,
   "metadata": {},
   "outputs": [
    {
     "name": "stdout",
     "output_type": "stream",
     "text": [
      "2.0.9\n"
     ]
    }
   ],
   "source": [
    "import json\n",
    "print(json.__version__)"
   ]
  },
  {
   "cell_type": "code",
   "execution_count": 52,
   "metadata": {},
   "outputs": [
    {
     "ename": "TypeError",
     "evalue": "'NoneType' object is not subscriptable",
     "output_type": "error",
     "traceback": [
      "\u001b[1;31m---------------------------------------------------------------------------\u001b[0m",
      "\u001b[1;31mTypeError\u001b[0m                                 Traceback (most recent call last)",
      "\u001b[1;32m~\\AppData\\Local\\Temp/ipykernel_12540/3105888596.py\u001b[0m in \u001b[0;36m<module>\u001b[1;34m\u001b[0m\n\u001b[0;32m     12\u001b[0m     \u001b[0mfinal_ans\u001b[0m\u001b[1;33m=\u001b[0m\u001b[0mans\u001b[0m\u001b[1;33m[\u001b[0m\u001b[1;36m1\u001b[0m\u001b[1;33m]\u001b[0m\u001b[1;33m\u001b[0m\u001b[1;33m\u001b[0m\u001b[0m\n\u001b[0;32m     13\u001b[0m     \u001b[0mprint\u001b[0m\u001b[1;33m(\u001b[0m\u001b[0mfinal_ans\u001b[0m\u001b[1;33m)\u001b[0m\u001b[1;33m\u001b[0m\u001b[1;33m\u001b[0m\u001b[0m\n\u001b[1;32m---> 14\u001b[1;33m \u001b[0moutput_A\u001b[0m\u001b[1;33m(\u001b[0m\u001b[1;33m)\u001b[0m\u001b[1;33m\u001b[0m\u001b[1;33m\u001b[0m\u001b[0m\n\u001b[0m\u001b[0;32m     15\u001b[0m \u001b[1;33m\u001b[0m\u001b[0m\n",
      "\u001b[1;32m~\\AppData\\Local\\Temp/ipykernel_12540/3105888596.py\u001b[0m in \u001b[0;36moutput_A\u001b[1;34m()\u001b[0m\n\u001b[0;32m     10\u001b[0m     \u001b[0mcursor\u001b[0m\u001b[1;33m.\u001b[0m\u001b[0mexecute\u001b[0m\u001b[1;33m(\u001b[0m\u001b[0mpostgres_select_query\u001b[0m\u001b[1;33m,\u001b[0m \u001b[1;33m(\u001b[0m\u001b[0manswer\u001b[0m\u001b[1;33m,\u001b[0m\u001b[1;33m)\u001b[0m\u001b[1;33m)\u001b[0m\u001b[1;33m\u001b[0m\u001b[1;33m\u001b[0m\u001b[0m\n\u001b[0;32m     11\u001b[0m     \u001b[0mans\u001b[0m\u001b[1;33m=\u001b[0m\u001b[0mcursor\u001b[0m\u001b[1;33m.\u001b[0m\u001b[0mfetchone\u001b[0m\u001b[1;33m(\u001b[0m\u001b[1;33m)\u001b[0m\u001b[1;33m\u001b[0m\u001b[1;33m\u001b[0m\u001b[0m\n\u001b[1;32m---> 12\u001b[1;33m     \u001b[0mfinal_ans\u001b[0m\u001b[1;33m=\u001b[0m\u001b[0mans\u001b[0m\u001b[1;33m[\u001b[0m\u001b[1;36m1\u001b[0m\u001b[1;33m]\u001b[0m\u001b[1;33m\u001b[0m\u001b[1;33m\u001b[0m\u001b[0m\n\u001b[0m\u001b[0;32m     13\u001b[0m     \u001b[0mprint\u001b[0m\u001b[1;33m(\u001b[0m\u001b[0mfinal_ans\u001b[0m\u001b[1;33m)\u001b[0m\u001b[1;33m\u001b[0m\u001b[1;33m\u001b[0m\u001b[0m\n\u001b[0;32m     14\u001b[0m \u001b[0moutput_A\u001b[0m\u001b[1;33m(\u001b[0m\u001b[1;33m)\u001b[0m\u001b[1;33m\u001b[0m\u001b[1;33m\u001b[0m\u001b[0m\n",
      "\u001b[1;31mTypeError\u001b[0m: 'NoneType' object is not subscriptable"
     ]
    }
   ],
   "source": [
    "def output_A():\n",
    "    DATABASE_URL = os.popen('heroku config:get DATABASE_URL -a penguin-talk').read()[:-1]\n",
    "\n",
    "    conn = psycopg2.connect(DATABASE_URL, sslmode='require')\n",
    "    cursor = conn.cursor()\n",
    "\n",
    "    answer = '肌力練'\n",
    "    postgres_select_query = f\"\"\"SELECT * FROM penguin_talk WHERE answer = %s\"\"\"\n",
    "\n",
    "    cursor.execute(postgres_select_query, (answer,))\n",
    "    ans=cursor.fetchone()\n",
    "    final_ans=ans[1]\n",
    "    print(final_ans) \n",
    "output_A()\n",
    "    "
   ]
  }
 ],
 "metadata": {
  "interpreter": {
   "hash": "7b4b4feff2f24a0f0a34464dbe537a36fda679851528fb8735cb41fa49dffb2d"
  },
  "kernelspec": {
   "display_name": "Python 3.8.8 ('base')",
   "language": "python",
   "name": "python3"
  },
  "language_info": {
   "codemirror_mode": {
    "name": "ipython",
    "version": 3
   },
   "file_extension": ".py",
   "mimetype": "text/x-python",
   "name": "python",
   "nbconvert_exporter": "python",
   "pygments_lexer": "ipython3",
   "version": "3.8.8"
  },
  "orig_nbformat": 4
 },
 "nbformat": 4,
 "nbformat_minor": 2
}
